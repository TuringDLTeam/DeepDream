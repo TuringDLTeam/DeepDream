{
  "nbformat": 4,
  "nbformat_minor": 0,
  "metadata": {
    "colab": {
      "name": "deep dream.ipynb",
      "provenance": [],
      "collapsed_sections": []
    },
    "kernelspec": {
      "name": "python3",
      "display_name": "Python 3"
    },
    "language_info": {
      "name": "python"
    },
    "accelerator": "GPU"
  },
  "cells": [
    {
      "cell_type": "code",
      "execution_count": null,
      "metadata": {
        "id": "pWYHl3eZADKy"
      },
      "outputs": [],
      "source": [
        "import tensorflow as tf\n",
        "from tensorflow import keras\n",
        "from tensorflow.keras import layers\n",
        "\n",
        "from google.colab import files\n",
        "from PIL import Image\n",
        "import numpy as np\n",
        "\n",
        "from tqdm.notebook import tqdm\n",
        "\n",
        "from IPython.display import display"
      ]
    },
    {
      "cell_type": "code",
      "source": [
        "base_model = keras.applications.InceptionV3(include_top=False, weights='imagenet')"
      ],
      "metadata": {
        "id": "w8YQQD4bAbBQ"
      },
      "execution_count": null,
      "outputs": []
    },
    {
      "cell_type": "code",
      "source": [
        "names = ['mixed3', 'mixed5']\n",
        "\n",
        "outputs = [base_model.get_layer(layer).output for layer in names]\n",
        "model = keras.Model(inputs=base_model.input, outputs=outputs)"
      ],
      "metadata": {
        "id": "Yxp8ZCrcBFPg"
      },
      "execution_count": null,
      "outputs": []
    },
    {
      "cell_type": "code",
      "source": [
        "def calculate_loss(img, model):\n",
        "  img = tf.expand_dims(img, axis=0)\n",
        "\n",
        "  activations = model(img)\n",
        "  losses = [tf.reduce_mean(activation) for activation in activations]\n",
        "\n",
        "  return tf.reduce_sum(losses)"
      ],
      "metadata": {
        "id": "cbZXcqBABoz5"
      },
      "execution_count": null,
      "outputs": []
    },
    {
      "cell_type": "code",
      "source": [
        "def upload_image():\n",
        "  image = files.upload()\n",
        "  file_name = list(image.keys())[0]\n",
        "\n",
        "  print()\n",
        "  print(f'uploaded file: {file_name}')\n",
        "\n",
        "  image = Image.open(file_name)\n",
        "  image = np.array(image)\n",
        "  image = tf.convert_to_tensor(image)\n",
        "  image = tf.cast(image, tf.float32)\n",
        "\n",
        "  return image"
      ],
      "metadata": {
        "id": "G2CBnC5oCIpm"
      },
      "execution_count": null,
      "outputs": []
    },
    {
      "cell_type": "code",
      "source": [
        "def step(image, model, count, step_size):\n",
        "  for _ in range(count):\n",
        "    with tf.GradientTape() as tape:\n",
        "      tape.watch(image)\n",
        "\n",
        "      loss = calculate_loss(image, model)\n",
        "    \n",
        "    gradients = tape.gradient(loss, image)\n",
        "    gradients /= tf.math.reduce_std(gradients) + 1e-8 \n",
        "\n",
        "    image = image + gradients * step_size\n",
        "    image = tf.clip_by_value(image, -1, 1)\n",
        "\n",
        "  return image, loss"
      ],
      "metadata": {
        "id": "ThOJsCdTCVCX"
      },
      "execution_count": null,
      "outputs": []
    },
    {
      "cell_type": "code",
      "source": [
        "def generate(image, model, count, step_size):\n",
        "  image = tf.keras.applications.inception_v3.preprocess_input(image)\n",
        "  for i in tqdm(range(1, count + 1)):\n",
        "    image, loss = step(image, model, 100, tf.constant(step_size))\n",
        "\n",
        "    print (f\"Step {i}, loss {loss}\")\n",
        "\n",
        "  return image"
      ],
      "metadata": {
        "id": "IWOdgGvcJCMz"
      },
      "execution_count": null,
      "outputs": []
    },
    {
      "cell_type": "code",
      "source": [
        "def convert_image(image):\n",
        "  image = 255. * (image + 1.) / 2.\n",
        "  image = tf.cast(image, tf.uint8)\n",
        "\n",
        "  return image"
      ],
      "metadata": {
        "id": "U9WsRjMfF3yN"
      },
      "execution_count": null,
      "outputs": []
    },
    {
      "cell_type": "code",
      "source": [
        "count = 10\n",
        "step_size = 1e-2"
      ],
      "metadata": {
        "id": "wCIDnM8-DhqS"
      },
      "execution_count": null,
      "outputs": []
    },
    {
      "cell_type": "code",
      "source": [
        "image = upload_image()"
      ],
      "metadata": {
        "id": "aKc6S3PRDtSb"
      },
      "execution_count": null,
      "outputs": []
    },
    {
      "cell_type": "code",
      "source": [
        "final_image = generate(image, model, count, step_size)"
      ],
      "metadata": {
        "id": "5l7HtMaPDvmf"
      },
      "execution_count": null,
      "outputs": []
    },
    {
      "cell_type": "code",
      "source": [
        "converted_image = convert_image(final_image)"
      ],
      "metadata": {
        "id": "CjfgZZo-FOty"
      },
      "execution_count": null,
      "outputs": []
    },
    {
      "cell_type": "code",
      "source": [
        "converted_image = Image.fromarray(converted_image.numpy())\n",
        "display(converted_image)"
      ],
      "metadata": {
        "id": "L5A7vzOdGVLm"
      },
      "execution_count": null,
      "outputs": []
    },
    {
      "cell_type": "code",
      "source": [
        "converted_image.save('result.jpg')\n",
        "files.download('result.jpg')"
      ],
      "metadata": {
        "id": "kixoQHPDGf1l"
      },
      "execution_count": null,
      "outputs": []
    },
    {
      "cell_type": "code",
      "source": [
        ""
      ],
      "metadata": {
        "id": "pitDCHaiGh0a"
      },
      "execution_count": null,
      "outputs": []
    }
  ]
}